{
 "cells": [
  {
   "cell_type": "code",
   "execution_count": 9,
   "id": "80ea74ee",
   "metadata": {
    "lines_to_next_cell": 1
   },
   "outputs": [],
   "source": [
    "# imports\n",
    "import random\n",
    "import numpy as np\n",
    "import matplotlib.pyplot as plt\n",
    "import pandas as pd"
   ]
  },
  {
   "cell_type": "code",
   "execution_count": 75,
   "id": "cfbe6bdc",
   "metadata": {
    "lines_to_next_cell": 1
   },
   "outputs": [],
   "source": [
    "# Generate 100 sine functions with different a,b,c parameters and random noise\n",
    "def sine(a,b,c,x):\n",
    "    return a * np.sin(b * x + c)\n",
    "\n",
    "n_sins = 100\n",
    "\n",
    "x_data = np.arange(0,10,0.001)\n",
    "a_list = np.linspace(0,10,n_sins)\n",
    "b_list = np.linspace(0.1,6,n_sins)\n",
    "c_list = np.linspace(0,5,n_sins)\n",
    "\n",
    "y_data = [0] * n_sins\n",
    "dict = {}\n",
    "for i in range(0,len(a_list)):\n",
    "    random.shuffle(b_list)\n",
    "    random.shuffle(c_list)\n",
    "    if i <= 60:\n",
    "        y_data[i] = sine(a_list[i], b_list[i], c_list[i], x_data) + np.random.normal(-a_list[i],a_list[i],len(x_data))\n",
    "        y_data[i] = np.append(y_data[i], 1)   #boolean: 1 = there is a sine signal, -1 = just noise\n",
    "        #plt.plot(x_data, y_data[i])\n",
    "    else:       \n",
    "        y_data[i] = np.random.normal(-a_list[i],a_list[i],len(x_data))  # 40 noise datasets with no signal\n",
    "        y_data[i] = np.append(y_data[i], -1)\n",
    "        #plt.plot(x_data, y_data[i])\n",
    "\n",
    "y_data = np.array(y_data).transpose()"
   ]
  },
  {
   "cell_type": "code",
   "execution_count": 74,
   "id": "00596b86",
   "metadata": {},
   "outputs": [
    {
     "name": "stdout",
     "output_type": "stream",
     "text": [
      "[0 0 0 ... 0 0 0]\n"
     ]
    }
   ],
   "source": [
    "print(test_sel.astype(int))"
   ]
  },
  {
   "cell_type": "code",
   "execution_count": 76,
   "id": "b344331b",
   "metadata": {},
   "outputs": [
    {
     "ename": "IndexError",
     "evalue": "boolean index did not match indexed array along dimension 0; dimension is 10001 but corresponding boolean dimension is 10000",
     "output_type": "error",
     "traceback": [
      "\u001b[0;31m---------------------------------------------------------------------------\u001b[0m",
      "\u001b[0;31mIndexError\u001b[0m                                Traceback (most recent call last)",
      "Cell \u001b[0;32mIn[76], line 7\u001b[0m\n\u001b[1;32m      4\u001b[0m random\u001b[38;5;241m.\u001b[39mshuffle(test_sel)\n\u001b[1;32m      6\u001b[0m y_test \u001b[38;5;241m=\u001b[39m y_data[test_sel\u001b[38;5;241m.\u001b[39mastype(\u001b[38;5;28mint\u001b[39m)]\n\u001b[0;32m----> 7\u001b[0m y_train \u001b[38;5;241m=\u001b[39m \u001b[43my_data\u001b[49m\u001b[43m[\u001b[49m\u001b[38;5;241;43m~\u001b[39;49m\u001b[43mtest_sel\u001b[49m\u001b[43m]\u001b[49m\n",
      "\u001b[0;31mIndexError\u001b[0m: boolean index did not match indexed array along dimension 0; dimension is 10001 but corresponding boolean dimension is 10000"
     ]
    }
   ],
   "source": [
    "length = len(x_data)\n",
    "test_frac = 0.1\n",
    "test_sel = np.random.choice([True, False], size=length, p=[test_frac, 1-test_frac])\n",
    "random.shuffle(test_sel)\n",
    "\n",
    "y_test = y_data[test_sel.astype(int)]\n",
    "y_train = y_data[~test_sel]"
   ]
  },
  {
   "cell_type": "code",
   "execution_count": 60,
   "id": "b41de831",
   "metadata": {},
   "outputs": [
    {
     "name": "stdout",
     "output_type": "stream",
     "text": [
      "100\n"
     ]
    }
   ],
   "source": [
    "print(len(y_data[i]))"
   ]
  },
  {
   "cell_type": "code",
   "execution_count": 50,
   "id": "3bab079a",
   "metadata": {
    "lines_to_next_cell": 1
   },
   "outputs": [],
   "source": [
    "# Perceptron\n",
    "def train_perceptron(y_data):\n",
    "    # Initialize weight vector and bias\n",
    "    numvars = len(y_train[0])\n",
    "    w = np.array([0.0] * numvars)\n",
    "    b = 0.0\n",
    "    a = 0.0\n",
    "\n",
    "    for epoch in range(0, epochs):         #run MAX_ITER iterations\n",
    "\n",
    "        converged = True\n",
    "        random.shuffle(y_data)                #shuffle between each iteration\n",
    "        \n",
    "        for row in y_data:                    #look at each row of the data (each test sine)\n",
    "            y = np.array(row[:-1])            #y is all the data in the row, excluding the classification column\n",
    "            y = y.flatten()\n",
    "            class_y = row[-1]                     \n",
    "\n",
    "            a = np.dot(w,y) + b             #activation\n",
    "\n",
    "            if class_y*a <= 0:                     #if the activation is not accurate...\n",
    "                w += class_y*y                   #update weights\n",
    "                b += class_y                      #update bias\n",
    "                converged = False           #If we have to update w and b, then we haven't converged\n",
    "\n",
    "        if converged:                        #between each iteration, check for convergence\n",
    "            print(\"Converged after \"+str(i+1)+\" iterations.\")\n",
    "            break\n",
    "\n",
    "    return (w, b)"
   ]
  },
  {
   "cell_type": "code",
   "execution_count": 51,
   "id": "9d63eb39",
   "metadata": {},
   "outputs": [
    {
     "ename": "ValueError",
     "evalue": "shapes (100,) and (99,) not aligned: 100 (dim 0) != 99 (dim 0)",
     "output_type": "error",
     "traceback": [
      "\u001b[0;31m---------------------------------------------------------------------------\u001b[0m",
      "\u001b[0;31mValueError\u001b[0m                                Traceback (most recent call last)",
      "Cell \u001b[0;32mIn[51], line 4\u001b[0m\n\u001b[1;32m      1\u001b[0m epochs \u001b[38;5;241m=\u001b[39m \u001b[38;5;241m100\u001b[39m\n\u001b[1;32m      3\u001b[0m \u001b[38;5;66;03m# Training\u001b[39;00m\n\u001b[0;32m----> 4\u001b[0m (w, b) \u001b[38;5;241m=\u001b[39m \u001b[43mtrain_perceptron\u001b[49m\u001b[43m(\u001b[49m\u001b[43my_train\u001b[49m\u001b[43m)\u001b[49m\n",
      "Cell \u001b[0;32mIn[50], line 19\u001b[0m, in \u001b[0;36mtrain_perceptron\u001b[0;34m(y_data)\u001b[0m\n\u001b[1;32m     16\u001b[0m y \u001b[38;5;241m=\u001b[39m y\u001b[38;5;241m.\u001b[39mflatten()\n\u001b[1;32m     17\u001b[0m class_y \u001b[38;5;241m=\u001b[39m row[\u001b[38;5;241m-\u001b[39m\u001b[38;5;241m1\u001b[39m]                     \n\u001b[0;32m---> 19\u001b[0m a \u001b[38;5;241m=\u001b[39m \u001b[43mnp\u001b[49m\u001b[38;5;241;43m.\u001b[39;49m\u001b[43mdot\u001b[49m\u001b[43m(\u001b[49m\u001b[43mw\u001b[49m\u001b[43m,\u001b[49m\u001b[43my\u001b[49m\u001b[43m)\u001b[49m \u001b[38;5;241m+\u001b[39m b             \u001b[38;5;66;03m#activation\u001b[39;00m\n\u001b[1;32m     21\u001b[0m \u001b[38;5;28;01mif\u001b[39;00m class_y\u001b[38;5;241m*\u001b[39ma \u001b[38;5;241m<\u001b[39m\u001b[38;5;241m=\u001b[39m \u001b[38;5;241m0\u001b[39m:                     \u001b[38;5;66;03m#if the activation is not accurate...\u001b[39;00m\n\u001b[1;32m     22\u001b[0m     w \u001b[38;5;241m+\u001b[39m\u001b[38;5;241m=\u001b[39m class_y\u001b[38;5;241m*\u001b[39my                   \u001b[38;5;66;03m#update weights\u001b[39;00m\n",
      "\u001b[0;31mValueError\u001b[0m: shapes (100,) and (99,) not aligned: 100 (dim 0) != 99 (dim 0)"
     ]
    }
   ],
   "source": [
    "epochs = 100\n",
    "\n",
    "# Training\n",
    "(w, b) = train_perceptron(y_train)"
   ]
  },
  {
   "cell_type": "code",
   "execution_count": 43,
   "id": "87690f49",
   "metadata": {
    "lines_to_next_cell": 2
   },
   "outputs": [
    {
     "name": "stdout",
     "output_type": "stream",
     "text": [
      "Converged after 88 iterations.\n",
      "Actual class:  1 , Activation:  11131.359692851049\n",
      "Actual class:  -1 , Activation:  88162.03952735613\n",
      "Actual class:  -1 , Activation:  122069.95704242053\n",
      "Actual class:  1 , Activation:  9237.286945686528\n",
      "Actual class:  -1 , Activation:  208529.9990063904\n",
      "Actual class:  -1 , Activation:  137846.4736484415\n",
      "Actual class:  1 , Activation:  -2309.168727580185\n",
      "Actual class:  1 , Activation:  30152.992721997733\n",
      "Actual class:  1 , Activation:  70.0\n",
      "Actual class:  1 , Activation:  98209.63357243345\n",
      "Actual class:  -1 , Activation:  79714.17847817557\n",
      "Actual class:  1 , Activation:  8791.447593053996\n",
      "Accuracy:  0.5\n"
     ]
    }
   ],
   "source": [
    "def predict_perceptron(model, y):\n",
    "    (w, b) = model\n",
    "    activation = np.dot(w,y) + b\n",
    "    return activation\n",
    "\n",
    "# Testing\n",
    "correct = 0\n",
    "activations = np.array([0.0] * Y_train.shape[0])\n",
    "\n",
    "for i in range(0,Y_test.shape[0]):\n",
    "    activation = predict_perceptron((w, b), Y_test[i])\n",
    "    activations[i] = activation\n",
    "    class_y = class_test[i]\n",
    "    if activation * class_y > 0:\n",
    "        correct += 1\n",
    "    print('Actual class: ',class_test[i],', Activation: ',activation)\n",
    "acc = float(correct) / Y_test.shape[0]\n",
    "print(\"Accuracy: \", acc)"
   ]
  },
  {
   "cell_type": "code",
   "execution_count": 41,
   "id": "b04463fe",
   "metadata": {},
   "outputs": [
    {
     "ename": "IndexError",
     "evalue": "index 88 is out of bounds for axis 0 with size 88",
     "output_type": "error",
     "traceback": [
      "\u001b[0;31m---------------------------------------------------------------------------\u001b[0m",
      "\u001b[0;31mIndexError\u001b[0m                                Traceback (most recent call last)",
      "Cell \u001b[0;32mIn[41], line 2\u001b[0m\n\u001b[1;32m      1\u001b[0m \u001b[38;5;28;01mfor\u001b[39;00m i \u001b[38;5;129;01min\u001b[39;00m \u001b[38;5;28mrange\u001b[39m(\u001b[38;5;241m0\u001b[39m, \u001b[38;5;28mlen\u001b[39m(Y_train[\u001b[38;5;241m0\u001b[39m])):\n\u001b[0;32m----> 2\u001b[0m     \u001b[38;5;28;01mif\u001b[39;00m \u001b[43mactivations\u001b[49m\u001b[43m[\u001b[49m\u001b[43mi\u001b[49m\u001b[43m]\u001b[49m \u001b[38;5;241m>\u001b[39m \u001b[38;5;241m0\u001b[39m:\n\u001b[1;32m      3\u001b[0m         plt\u001b[38;5;241m.\u001b[39mscatter(x_data, Y_train[i], c\u001b[38;5;241m=\u001b[39m\u001b[38;5;124m'\u001b[39m\u001b[38;5;124mred\u001b[39m\u001b[38;5;124m'\u001b[39m)\n\u001b[1;32m      4\u001b[0m     \u001b[38;5;28;01mif\u001b[39;00m activations[i] \u001b[38;5;241m<\u001b[39m\u001b[38;5;241m=\u001b[39m \u001b[38;5;241m0\u001b[39m:\n",
      "\u001b[0;31mIndexError\u001b[0m: index 88 is out of bounds for axis 0 with size 88"
     ]
    },
    {
     "data": {
      "image/png": "[encoded data removed]",
      "text/plain": [
       "<Figure size 640x480 with 1 Axes>"
      ]
     },
     "metadata": {},
     "output_type": "display_data"
    }
   ],
   "source": [
    "for i in range(0, len(Y_train[0])):\n",
    "    if activations[i] > 0:\n",
    "        plt.scatter(x_data, Y_train[i], c='red')\n",
    "    if activations[i] <= 0:\n",
    "        plt.scatter(x_data, Y_train[i], c='blue')"
   ]
  },
  {
   "cell_type": "code",
   "execution_count": null,
   "id": "f2780106",
   "metadata": {},
   "outputs": [],
   "source": []
  }
 ],
 "metadata": {
  "jupytext": {
   "cell_metadata_filter": "-all",
   "main_language": "python",
   "notebook_metadata_filter": "-all"
  },
  "kernelspec": {
   "display_name": "gwpy_env",
   "language": "python",
   "name": "python3"
  },
  "language_info": {
   "codemirror_mode": {
    "name": "ipython",
    "version": 3
   },
   "file_extension": ".py",
   "mimetype": "text/x-python",
   "name": "python",
   "nbconvert_exporter": "python",
   "pygments_lexer": "ipython3",
   "version": "3.12.4"
  }
 },
 "nbformat": 4,
 "nbformat_minor": 5
}
